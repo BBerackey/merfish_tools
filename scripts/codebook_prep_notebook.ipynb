{
 "cells": [
  {
   "cell_type": "code",
   "execution_count": null,
   "id": "e7287b7e",
   "metadata": {},
   "outputs": [],
   "source": [
    "import pandas as pd\n",
    "import numpy as np\n",
    "import re"
   ]
  },
  {
   "cell_type": "code",
   "execution_count": null,
   "id": "f876afd7",
   "metadata": {},
   "outputs": [],
   "source": [
    "def get_geneWithOnbits(gene_str):\n",
    "    gene_name = gene_str.split(\"__\")[-2] # record gene name\n",
    "    onBits = []    \n",
    "    for x in re.split('\\]|\\[|,',gene_str.split(\"__\")[-1]):\n",
    "        try:\n",
    "            onBits.append(int(x))\n",
    "        except ValueError:\n",
    "            continue\n",
    "    return gene_name,onBits        "
   ]
  },
  {
   "cell_type": "code",
   "execution_count": null,
   "id": "344c0c43",
   "metadata": {},
   "outputs": [],
   "source": [
    "lib_path = \"U:/Lab/Bereket_public/MERFISH_tools/gene_panel_information/XXBBL1_300_gene_probe_lib_TwistBioscience_120722.txt\"\n",
    "gene_onbits = {}\n",
    "for line in open(lib_path,'r'):\n",
    "    if line.startswith('>'):\n",
    "        gene,onbits = get_geneWithOnbits(line)\n",
    "        if gene not in gene_onbits:\n",
    "            gene_onbits[gene] = onbits\n",
    "        else:\n",
    "            gene_onbits[gene] +=onbits\n",
    "        # make sure the onbits are unique    \n",
    "        gene_onbits[gene] = list(set(gene_onbits[gene]))     "
   ]
  },
  {
   "cell_type": "code",
   "execution_count": null,
   "id": "a15c3125",
   "metadata": {
    "scrolled": true
   },
   "outputs": [],
   "source": [
    "# convert to dataframe\n",
    "barcode_len = 27\n",
    "gene_barcodes = np.zeros((len(gene_onbits),barcode_len))\n",
    "for i,gene in enumerate(gene_onbits):\n",
    "    gene_barcodes[i,np.array(gene_onbits[gene])-1] = 1 # Note: -1 is need because python indexing\n",
    "                                             # starts from 0, while the index for the panel is \n",
    "                                             # starting from 1"
   ]
  },
  {
   "cell_type": "code",
   "execution_count": null,
   "id": "7c056223",
   "metadata": {},
   "outputs": [],
   "source": [
    "vizgen_codebook = pd.read_csv('U:/Lab/Bereket_public/MERFISH_tools/gene_panel_information/Custom_Mouse300GP01_verified.csv',index_col = 0)\n",
    "blank_barcodes = vizgen_codebook.filter(like='Blank',axis= 0).values[:,:-1]\n",
    "blank_index = vizgen_codebook.filter(like='Blank',axis= 0).index # name of blank genes\n"
   ]
  },
  {
   "cell_type": "code",
   "execution_count": null,
   "id": "35d09827",
   "metadata": {},
   "outputs": [],
   "source": [
    "codebook = pd.DataFrame( np.vstack((gene_barcodes,blank_barcodes)),\n",
    "                         index = list(gene_onbits.keys()) + list(blank_index),\n",
    "                         columns = ['bit'+str(i) for i in range(1,barcode_len+1)])\n",
    "codebook[vizgen_codebook.columns[-1]] = vizgen_codebook.iloc[:,-1]\n",
    "codebook.index.name = 'name' # name the index column, this is need in the MERlin package"
   ]
  },
  {
   "cell_type": "code",
   "execution_count": null,
   "id": "52f1d4c7",
   "metadata": {},
   "outputs": [],
   "source": [
    "\n",
    "codebook"
   ]
  },
  {
   "cell_type": "code",
   "execution_count": null,
   "id": "9efdaaf2",
   "metadata": {},
   "outputs": [],
   "source": [
    "# save the codebook\n",
    "code_book_21_bits = pd.concat([codebook.iloc[:,:21],codebook.iloc[:,-1]],axis=1)\n",
    "code_book_21_bits.to_csv(\"U:/Lab/Bereket_public/custom_rig_related/Merlin_test/cutom_rig_decoding_test/analysis_parameters/codebooks/custom_rig_300GP_21_bits.csv\")"
   ]
  },
  {
   "cell_type": "code",
   "execution_count": null,
   "id": "1511bd2f",
   "metadata": {},
   "outputs": [],
   "source": [
    "code_book_21_bits"
   ]
  }
 ],
 "metadata": {
  "kernelspec": {
   "display_name": "Python 3 (ipykernel)",
   "language": "python",
   "name": "python3"
  },
  "language_info": {
   "codemirror_mode": {
    "name": "ipython",
    "version": 3
   },
   "file_extension": ".py",
   "mimetype": "text/x-python",
   "name": "python",
   "nbconvert_exporter": "python",
   "pygments_lexer": "ipython3",
   "version": "3.9.7"
  }
 },
 "nbformat": 4,
 "nbformat_minor": 5
}
