{
 "metadata": {
  "language_info": {
   "codemirror_mode": {
    "name": "ipython",
    "version": 3
   },
   "file_extension": ".py",
   "mimetype": "text/x-python",
   "name": "python",
   "nbconvert_exporter": "python",
   "pygments_lexer": "ipython3",
   "version": "3.8.5"
  },
  "orig_nbformat": 4,
  "kernelspec": {
   "name": "python3",
   "display_name": "Python 3.8.10 64-bit ('base': conda)"
  },
  "interpreter": {
   "hash": "e2297a4b052802fc1fd31c067dc057bcc972e62e2e7d6063d6419332005695f9"
  }
 },
 "nbformat": 4,
 "nbformat_minor": 2,
 "cells": [
  {
   "cell_type": "code",
   "execution_count": 31,
   "metadata": {},
   "outputs": [],
   "source": [
    "import pandas as pd\n",
    "import numpy as np\n",
    "\n",
    "#Load the gene list (text file one gene per line)\n",
    "with open('/storage/RNA_MERFISH/Reference_Data/roy_list.txt') as f:\n",
    "    genelist = [line.strip() for line in f]\n",
    "\n",
    "#Load the UMI count table (expect columns are genes, rows are cells)\n",
    "matrix = pd.read_csv('/storage/RNA_MERFISH/Reference_Data/AllenBrain/MouseWholeCortexAndHippocampus/matrix.csv',\n",
    "                     usecols=genelist)"
   ]
  },
  {
   "cell_type": "code",
   "execution_count": 14,
   "metadata": {},
   "outputs": [],
   "source": [
    "#A column should be added to the UMI count table with the cell cluster assignment\n",
    "#For this dataset, it's in a separate metadata table that we load and then add the column\n",
    "metadata = pd.read_csv('/storage/RNA_MERFISH/Reference_Data/AllenBrain/MouseWholeCortexAndHippocampus/metadata.csv')\n",
    "matrix['cluster'] = metadata['cluster_label'].astype(str)"
   ]
  },
  {
   "cell_type": "code",
   "execution_count": 34,
   "metadata": {},
   "outputs": [
    {
     "output_type": "execute_result",
     "data": {
      "text/plain": [
       "                   0\n",
       "Ngef        3.000000\n",
       "Bcl2        1.333333\n",
       "Clasp1      2.350000\n",
       "Btg2        3.000000\n",
       "Pbx1       27.000000\n",
       "...              ...\n",
       "Malat1    378.060606\n",
       "Ppp1r14b    1.000000\n",
       "Aldh1a1     0.176471\n",
       "Gda         9.000000\n",
       "Acta2       0.071942\n",
       "\n",
       "[151 rows x 1 columns]"
      ],
      "text/html": "<div>\n<style scoped>\n    .dataframe tbody tr th:only-of-type {\n        vertical-align: middle;\n    }\n\n    .dataframe tbody tr th {\n        vertical-align: top;\n    }\n\n    .dataframe thead th {\n        text-align: right;\n    }\n</style>\n<table border=\"1\" class=\"dataframe\">\n  <thead>\n    <tr style=\"text-align: right;\">\n      <th></th>\n      <th>0</th>\n    </tr>\n  </thead>\n  <tbody>\n    <tr>\n      <th>Ngef</th>\n      <td>3.000000</td>\n    </tr>\n    <tr>\n      <th>Bcl2</th>\n      <td>1.333333</td>\n    </tr>\n    <tr>\n      <th>Clasp1</th>\n      <td>2.350000</td>\n    </tr>\n    <tr>\n      <th>Btg2</th>\n      <td>3.000000</td>\n    </tr>\n    <tr>\n      <th>Pbx1</th>\n      <td>27.000000</td>\n    </tr>\n    <tr>\n      <th>...</th>\n      <td>...</td>\n    </tr>\n    <tr>\n      <th>Malat1</th>\n      <td>378.060606</td>\n    </tr>\n    <tr>\n      <th>Ppp1r14b</th>\n      <td>1.000000</td>\n    </tr>\n    <tr>\n      <th>Aldh1a1</th>\n      <td>0.176471</td>\n    </tr>\n    <tr>\n      <th>Gda</th>\n      <td>9.000000</td>\n    </tr>\n    <tr>\n      <th>Acta2</th>\n      <td>0.071942</td>\n    </tr>\n  </tbody>\n</table>\n<p>151 rows × 1 columns</p>\n</div>"
     },
     "metadata": {},
     "execution_count": 34
    }
   ],
   "source": [
    "#Now group cells by clusters and calculate the average UMI, then get the value from the cluster\n",
    "#with the highest average UMI. Print it out to check the correct number of genes.\n",
    "umis = pd.DataFrame(matrix.groupby('cluster').mean().max())\n",
    "umis"
   ]
  },
  {
   "cell_type": "code",
   "execution_count": 35,
   "metadata": {},
   "outputs": [],
   "source": [
    "#Save the counts to a file\n",
    "umis.to_csv('umis.csv', header=None)"
   ]
  },
  {
   "cell_type": "code",
   "execution_count": null,
   "metadata": {},
   "outputs": [],
   "source": []
  }
 ]
}